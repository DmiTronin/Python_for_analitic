{
 "cells": [
  {
   "cell_type": "markdown",
   "id": "7c1e61d8",
   "metadata": {},
   "source": [
    "# # **Условие 1:**\n",
    " ### Оформляйте ноутбук, используя эти советы:\n",
    "- Номер задачи - заголовок 2\n",
    "- Номер подзадачи - заголовок 3\n",
    "- Предоставленные наборы данных оформляйте, как код"
   ]
  },
  {
   "cell_type": "markdown",
   "id": "bf8fc1a8",
   "metadata": {},
   "source": [
    "## **Условие 2:**\n",
    "На складе лежат разные фрукты в разном количестве.\n",
    "Нужно написать функцию, которая на вход принимает любое количество названий фруктов и их количество, а возвращает общее количество фруктов на складе"
   ]
  },
  {
   "cell_type": "code",
   "execution_count": 44,
   "id": "37c6d920",
   "metadata": {},
   "outputs": [],
   "source": [
    "def all_fruits (**kwargs):\n",
    "    sum_fruits = sum(kwargs.values())\n",
    "    return f'Quantity_fruits: {sum_fruits}'"
   ]
  },
  {
   "cell_type": "code",
   "execution_count": 45,
   "id": "808fd6cf",
   "metadata": {},
   "outputs": [
    {
     "name": "stdout",
     "output_type": "stream",
     "text": [
      "Quantity_fruits: 85\n",
      "None\n"
     ]
    }
   ],
   "source": [
    "print(print(all_fruits(Orange=15, Pineapple= 52, Apple= 18)))"
   ]
  },
  {
   "cell_type": "markdown",
   "id": "083a8124",
   "metadata": {},
   "source": [
    "## Условие 3:\n",
    "### Дан список с затратами на рекламу. Но в данных есть ошибки, некоторые затраты имеют отрицательную величину. Удалите такие значения из списка и посчитайте суммарные затраты\n",
    "- [100, 125, -90, 345, 655, -1, 0, 200]\n",
    "- Используйте list comprehensions"
   ]
  },
  {
   "cell_type": "code",
   "execution_count": 59,
   "id": "1800fedc",
   "metadata": {},
   "outputs": [
    {
     "name": "stdout",
     "output_type": "stream",
     "text": [
      "[100, 125, 345, 655, 200]\n"
     ]
    }
   ],
   "source": [
    "cost_advertising = [100, 125, -90, 345, 655, -1, 0, 200]\n",
    "print([i for i in cost_advertising if i > 0])"
   ]
  },
  {
   "cell_type": "code",
   "execution_count": 60,
   "id": "5272e22e",
   "metadata": {},
   "outputs": [
    {
     "name": "stdout",
     "output_type": "stream",
     "text": [
      "sum_cost: 1425\n"
     ]
    }
   ],
   "source": [
    "print(f'sum_cost: {sum(i for i in cost_advertising if i > 0)}')"
   ]
  },
  {
   "cell_type": "markdown",
   "id": "06c214ea",
   "metadata": {},
   "source": [
    "## Условие 4.1:\n",
    "### Даны два списка.\n",
    "- Дата покупки\n",
    "- ['2021-09-14', '2021-12-15', '2021-09-08', '2021-12-05', '2021-10-09', '2021-09-30', '2021-12-22', '2021-11-29', '2021-12-24', - '2021-11-26', '2021-10-27', '2021-12-18', '2021-11-09', '2021-11-23', '2021-09-27', '2021-10-02', '2021-12-27', '2021-09-20', - '2021-12-13', '2021-11-01', '2021-11-09', '2021-12-06', '2021-12-08', '2021-10-09', '2021-10-31', '2021-09-30', '2021-11-09', - '2021-12-13', '2021-10-26', '2021-12-09']\n",
    "- Суммы покупок по датам\n",
    "- [1270, 8413, 9028, 3703, 5739, 4095, 295, 4944, 5723, 3701, 4471, 651, 7037, 4274, 6275, 4988, 6930, 2971, 6592, 2004, 2822, - - 519, 3406, 2732, 5015, 2008, 316, 6333, 5700, 2887]\n",
    "### 4.1 Найдите, какая выручка у компании в ноябре\n",
    "- Используйте list comprehensions\n",
    "### 4.2 Найдите выручку компании в зависимости от месяца\n",
    "- Для этого напишите функцию, которая на вход принимает список с датами и список с выручкой, а на выходе словарь, где ключи - это месяцы, а значения - это выручка.\n",
    "- Используйте аннотирование типов."
   ]
  },
  {
   "cell_type": "markdown",
   "id": "227d069a",
   "metadata": {},
   "source": [
    "##### 4.1 Найдите, какая выручка у компании в ноябре"
   ]
  },
  {
   "cell_type": "code",
   "execution_count": 64,
   "id": "60db1633",
   "metadata": {},
   "outputs": [],
   "source": [
    "\n",
    "date = ['2021-09-14', '2021-12-15', '2021-09-08', '2021-12-05', '2021-10-09', '2021-09-30', '2021-12-22',\n",
    "        '2021-11-29', '2021-12-24', '2021-11-26', '2021-10-27', '2021-12-18', '2021-11-09', '2021-11-23',\n",
    "        '2021-09-27', '2021-10-02', '2021-12-27', '2021-09-20', '2021-12-13', '2021-11-01', '2021-11-09',\n",
    "        '2021-12-06', '2021-12-08', '2021-10-09', '2021-10-31', '2021-09-30', '2021-11-09', '2021-12-13',\n",
    "        '2021-10-26', '2021-12-09']"
   ]
  },
  {
   "cell_type": "code",
   "execution_count": 65,
   "id": "d3d74300",
   "metadata": {},
   "outputs": [],
   "source": [
    "purchase = [1270, 8413, 9028, 3703, 5739, 4095, 295, 4944, 5723,\n",
    "            3701, 4471, 651, 7037, 4274, 6275, 4988, 6930, 2971,\n",
    "            6592, 2004, 2822, - - 519, 3406, 2732, 5015, 2008, 316,\n",
    "            6333, 5700, 2887]"
   ]
  },
  {
   "cell_type": "code",
   "execution_count": 66,
   "id": "1e74e89c",
   "metadata": {},
   "outputs": [],
   "source": [
    "def november(data1: list, data2: list) -> list:\n",
    "    \n",
    "    new_data = []\n",
    "    \n",
    "    for i in range(len(data1)-1):\n",
    "        if '-11-' in data1[i]:\n",
    "            new_data.append(data2[i])\n",
    "            \n",
    "    return new_data"
   ]
  },
  {
   "cell_type": "code",
   "execution_count": 68,
   "id": "e85e292d",
   "metadata": {},
   "outputs": [
    {
     "name": "stdout",
     "output_type": "stream",
     "text": [
      "[4944, 3701, 7037, 4274, 2004, 2822, 316]\n",
      "Profit: 25098\n"
     ]
    }
   ],
   "source": [
    "print(november(date, purchase))\n",
    "print(f'Revenue: {sum(november(date, purchase))}')"
   ]
  },
  {
   "cell_type": "code",
   "execution_count": 69,
   "id": "83bd2644",
   "metadata": {},
   "outputs": [
    {
     "name": "stdout",
     "output_type": "stream",
     "text": [
      "[4944, 3701, 7037, 4274, 2004, 2822, 316]\n",
      "Revenue: 25098\n"
     ]
    }
   ],
   "source": [
    "print([purchase[i] for i in range(0, len(date)-1) if \"-11\" in date[i]])\n",
    "print(f'Revenue: {sum([purchase[i] for i in range(len(date)-1) if \"-11\" in date[i]])}')"
   ]
  },
  {
   "cell_type": "code",
   "execution_count": null,
   "id": "49308d7a",
   "metadata": {},
   "outputs": [],
   "source": []
  }
 ],
 "metadata": {
  "kernelspec": {
   "display_name": "Python 3 (ipykernel)",
   "language": "python",
   "name": "python3"
  },
  "language_info": {
   "codemirror_mode": {
    "name": "ipython",
    "version": 3
   },
   "file_extension": ".py",
   "mimetype": "text/x-python",
   "name": "python",
   "nbconvert_exporter": "python",
   "pygments_lexer": "ipython3",
   "version": "3.11.1"
  }
 },
 "nbformat": 4,
 "nbformat_minor": 5
}
